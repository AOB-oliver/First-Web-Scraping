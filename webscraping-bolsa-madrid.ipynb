{
 "cells": [
  {
   "cell_type": "code",
   "execution_count": 1,
   "id": "966ef3e8",
   "metadata": {},
   "outputs": [],
   "source": [
    "# MODULOS Y LIBRERIAS\n",
    "#----------------------\n",
    "import pandas as pd # Manejo de los datos\n",
    "import numpy as np # Posibles operaciones\n",
    "from bs4 import BeautifulSoup as soup # Web Scraping\n",
    "from urllib.request import urlopen\n",
    "from datetime import datetime\n",
    "import csv\n",
    "from os.path import exists\n",
    "#----------------------"
   ]
  },
  {
   "cell_type": "code",
   "execution_count": 2,
   "id": "2f353491",
   "metadata": {},
   "outputs": [],
   "source": [
    "# URL que vamos a inspeccionar\n",
    "url_pagina = 'https://www.bolsamadrid.es/esp/aspx/Mercados/Precios.aspx?indice=ESI100000000'"
   ]
  },
  {
   "cell_type": "code",
   "execution_count": 3,
   "id": "e44ffcb9",
   "metadata": {},
   "outputs": [],
   "source": [
    "# Abrimos la página, y guardamos el html\n",
    "mi_cliente = urlopen(url_pagina)\n",
    "pag_html = mi_cliente.read()\n",
    "mi_cliente.close()"
   ]
  },
  {
   "cell_type": "code",
   "execution_count": 4,
   "id": "3d224cba",
   "metadata": {},
   "outputs": [],
   "source": [
    "# Generamos la página de BeautifulSoup\n",
    "pag_soup = soup(pag_html, \"html.parser\")"
   ]
  },
  {
   "cell_type": "code",
   "execution_count": 5,
   "id": "0b5e6135",
   "metadata": {},
   "outputs": [],
   "source": [
    "# Buscamos la tabla que queremos guardar\n",
    "tabla = pag_soup.find(\"table\", attrs={\"id\": \"ctl00_Contenido_tblAcciones\"})"
   ]
  },
  {
   "cell_type": "code",
   "execution_count": 6,
   "id": "4d5e46bf",
   "metadata": {},
   "outputs": [
    {
     "data": {
      "text/plain": [
       "<table cellpadding=\"3\" cellspacing=\"0\" class=\"TblPort\" id=\"ctl00_Contenido_tblAcciones\" width=\"100%\">\n",
       "<tr align=\"center\">\n",
       "<th scope=\"col\">Nombre</th><th scope=\"col\">Últ.</th><th scope=\"col\">% Dif.</th><th scope=\"col\">Máx.</th><th scope=\"col\">Mín.</th><th scope=\"col\">Volumen</th><th scope=\"col\">Efectivo (miles €)</th><th scope=\"col\">Fecha</th><th class=\"Ult\" scope=\"col\">Hora</th>\n",
       "</tr><tr align=\"right\">\n",
       "<td align=\"left\" class=\"DifFlBj\"><a href=\"/esp/aspx/Empresas/FichaValor.aspx?ISIN=ES0125220311\">ACCIONA</a></td><td>139,1000</td><td class=\"DifClBj\">-0,64</td><td>140,0000</td><td>137,5000</td><td>11.811</td><td>1.634,07</td><td align=\"center\">08/09/2021</td><td align=\"center\" class=\"Ult\">10:47:57</td>\n",
       "</tr><tr align=\"right\">\n",
       "<td align=\"left\" class=\"DifFlSb\"><a href=\"/esp/aspx/Empresas/FichaValor.aspx?ISIN=ES0132105018\">ACERINOX</a></td><td>11,5600</td><td class=\"DifClSb\">0,09</td><td>11,6700</td><td>11,4500</td><td>186.881</td><td>2.170,12</td><td align=\"center\">08/09/2021</td><td align=\"center\" class=\"Ult\">10:46:24</td>\n",
       "</tr><tr align=\"right\">\n",
       "<td align=\"left\" class=\"DifFlBj\"><a href=\"/esp/aspx/Empresas/FichaValor.aspx?ISIN=ES0167050915\">ACS</a></td><td>23,1800</td><td class=\"DifClBj\">-0,94</td><td>23,2900</td><td>23,1100</td><td>109.242</td><td>2.536,72</td><td align=\"center\">08/09/2021</td><td align=\"center\" class=\"Ult\">10:49:17</td>\n",
       "</tr><tr align=\"right\">\n",
       "<td align=\"left\" class=\"DifFlBj\"><a href=\"/esp/aspx/Empresas/FichaValor.aspx?ISIN=ES0105046009\">AENA</a></td><td>133,5000</td><td class=\"DifClBj\">-0,07</td><td>133,7000</td><td>132,2500</td><td>16.154</td><td>2.152,99</td><td align=\"center\">08/09/2021</td><td align=\"center\" class=\"Ult\">10:49:17</td>\n",
       "</tr><tr align=\"right\">\n",
       "<td align=\"left\" class=\"DifFlSb\"><a href=\"/esp/aspx/Empresas/FichaValor.aspx?ISIN=ES0157097017\">ALMIRALL</a></td><td>14,6300</td><td class=\"DifClSb\">0,21</td><td>14,8300</td><td>14,5600</td><td>168.179</td><td>2.471,10</td><td align=\"center\">08/09/2021</td><td align=\"center\" class=\"Ult\">10:49:06</td>\n",
       "</tr><tr align=\"right\">\n",
       "<td align=\"left\" class=\"DifFlSb\"><a href=\"/esp/aspx/Empresas/FichaValor.aspx?ISIN=ES0109067019\">AMADEUS</a></td><td>52,7000</td><td class=\"DifClSb\">0,15</td><td>53,1000</td><td>51,9200</td><td>197.761</td><td>10.385,26</td><td align=\"center\">08/09/2021</td><td align=\"center\" class=\"Ult\">10:49:17</td>\n",
       "</tr><tr align=\"right\">\n",
       "<td align=\"left\" class=\"DifFlBj\"><a href=\"/esp/aspx/Empresas/FichaValor.aspx?ISIN=LU1598757687\">ARCELORMIT.</a></td><td>28,1850</td><td class=\"DifClBj\">-1,38</td><td>28,5050</td><td>28,1500</td><td>99.955</td><td>2.835,22</td><td align=\"center\">08/09/2021</td><td align=\"center\" class=\"Ult\">10:50:05</td>\n",
       "</tr><tr align=\"right\">\n",
       "<td align=\"left\" class=\"DifFlBj\"><a href=\"/esp/aspx/Empresas/FichaValor.aspx?ISIN=ES0113900J37\">B.SANTANDER</a></td><td>3,0425</td><td class=\"DifClBj\">-2,97</td><td>3,1055</td><td>3,0265</td><td>9.551.221</td><td>29.210,91</td><td align=\"center\">08/09/2021</td><td align=\"center\" class=\"Ult\">10:49:56</td>\n",
       "</tr><tr align=\"right\">\n",
       "<td align=\"left\" class=\"DifFlBj\"><a href=\"/esp/aspx/Empresas/FichaValor.aspx?ISIN=ES0113860A34\">BA.SABADELL</a></td><td>0,5856</td><td class=\"DifClBj\">-3,14</td><td>0,5972</td><td>0,5844</td><td>5.860.929</td><td>3.458,50</td><td align=\"center\">08/09/2021</td><td align=\"center\" class=\"Ult\">10:49:08</td>\n",
       "</tr><tr align=\"right\">\n",
       "<td align=\"left\" class=\"DifFlBj\"><a href=\"/esp/aspx/Empresas/FichaValor.aspx?ISIN=ES0113679I37\">BANKINTER</a></td><td>4,9130</td><td class=\"DifClBj\">-1,90</td><td>4,9830</td><td>4,8970</td><td>287.692</td><td>1.419,85</td><td align=\"center\">08/09/2021</td><td align=\"center\" class=\"Ult\">10:47:48</td>\n",
       "</tr><tr align=\"right\">\n",
       "<td align=\"left\" class=\"DifFlBj\"><a href=\"/esp/aspx/Empresas/FichaValor.aspx?ISIN=ES0113211835\">BBVA</a></td><td>5,4940</td><td class=\"DifClBj\">-1,77</td><td>5,5610</td><td>5,4690</td><td>9.256.730</td><td>51.567,63</td><td align=\"center\">08/09/2021</td><td align=\"center\" class=\"Ult\">10:49:49</td>\n",
       "</tr><tr align=\"right\">\n",
       "<td align=\"left\" class=\"DifFlBj\"><a href=\"/esp/aspx/Empresas/FichaValor.aspx?ISIN=ES0140609019\">CAIXABANK</a></td><td>2,6120</td><td class=\"DifClBj\">-3,12</td><td>2,6760</td><td>2,6030</td><td>2.823.558</td><td>7.422,01</td><td align=\"center\">08/09/2021</td><td align=\"center\" class=\"Ult\">10:49:41</td>\n",
       "</tr><tr align=\"right\">\n",
       "<td align=\"left\" class=\"DifFlBj\"><a href=\"/esp/aspx/Empresas/FichaValor.aspx?ISIN=ES0105066007\">CELLNEX</a></td><td>57,5600</td><td class=\"DifClBj\">-0,10</td><td>57,8200</td><td>57,2400</td><td>119.253</td><td>6.866,59</td><td align=\"center\">08/09/2021</td><td align=\"center\" class=\"Ult\">10:48:54</td>\n",
       "</tr><tr align=\"right\">\n",
       "<td align=\"left\" class=\"DifFlBj\"><a href=\"/esp/aspx/Empresas/FichaValor.aspx?ISIN=ES0105630315\">CIE AUTOMOT.</a></td><td>23,5400</td><td class=\"DifClBj\">-1,83</td><td>24,2000</td><td>23,4800</td><td>39.920</td><td>941,91</td><td align=\"center\">08/09/2021</td><td align=\"center\" class=\"Ult\">10:45:23</td>\n",
       "</tr><tr align=\"right\">\n",
       "<td align=\"left\" class=\"DifFlBj\"><a href=\"/esp/aspx/Empresas/FichaValor.aspx?ISIN=ES0130960018\">ENAGAS</a></td><td>18,8600</td><td class=\"DifClBj\">-0,58</td><td>18,9050</td><td>18,6500</td><td>109.698</td><td>2.060,35</td><td align=\"center\">08/09/2021</td><td align=\"center\" class=\"Ult\">10:49:49</td>\n",
       "</tr><tr align=\"right\">\n",
       "<td align=\"left\" class=\"DifFlBj\"><a href=\"/esp/aspx/Empresas/FichaValor.aspx?ISIN=ES0130670112\">ENDESA</a></td><td>20,3000</td><td class=\"DifClBj\">-0,68</td><td>20,4300</td><td>20,1600</td><td>139.493</td><td>2.824,30</td><td align=\"center\">08/09/2021</td><td align=\"center\" class=\"Ult\">10:50:08</td>\n",
       "</tr><tr align=\"right\">\n",
       "<td align=\"left\" class=\"DifFlBj\"><a href=\"/esp/aspx/Empresas/FichaValor.aspx?ISIN=ES0118900010\">FERROVIAL</a></td><td>24,9000</td><td class=\"DifClBj\">-0,20</td><td>24,9300</td><td>24,6800</td><td>70.078</td><td>1.739,83</td><td align=\"center\">08/09/2021</td><td align=\"center\" class=\"Ult\">10:50:05</td>\n",
       "</tr><tr align=\"right\">\n",
       "<td align=\"left\" class=\"DifFlBj\"><a href=\"/esp/aspx/Empresas/FichaValor.aspx?ISIN=ES0137650018\">FLUIDRA</a></td><td>37,2500</td><td class=\"DifClBj\">-0,67</td><td>37,4000</td><td>37,0000</td><td>54.082</td><td>2.010,48</td><td align=\"center\">08/09/2021</td><td align=\"center\" class=\"Ult\">10:45:23</td>\n",
       "</tr><tr align=\"right\">\n",
       "<td align=\"left\" class=\"DifFlBj\"><a href=\"/esp/aspx/Empresas/FichaValor.aspx?ISIN=ES0171996087\">GRIFOLS CL.A</a></td><td>20,7300</td><td class=\"DifClBj\">-0,58</td><td>20,7600</td><td>20,5100</td><td>72.353</td><td>1.492,99</td><td align=\"center\">08/09/2021</td><td align=\"center\" class=\"Ult\">10:50:05</td>\n",
       "</tr><tr align=\"right\">\n",
       "<td align=\"left\" class=\"DifFlBj\"><a href=\"/esp/aspx/Empresas/FichaValor.aspx?ISIN=ES0177542018\">IAG</a></td><td>1,8080</td><td class=\"DifClBj\">-0,19</td><td>1,8250</td><td>1,7700</td><td>5.364.205</td><td>9.651,87</td><td align=\"center\">08/09/2021</td><td align=\"center\" class=\"Ult\">10:50:03</td>\n",
       "</tr><tr align=\"right\">\n",
       "<td align=\"left\" class=\"DifFlBj\"><a href=\"/esp/aspx/Empresas/FichaValor.aspx?ISIN=ES0144580Y14\">IBERDROLA</a></td><td>10,2450</td><td class=\"DifClBj\">-1,30</td><td>10,3200</td><td>10,1500</td><td>2.283.611</td><td>23.316,98</td><td align=\"center\">08/09/2021</td><td align=\"center\" class=\"Ult\">10:50:06</td>\n",
       "</tr><tr align=\"right\">\n",
       "<td align=\"left\" class=\"DifFlBj\"><a href=\"/esp/aspx/Empresas/FichaValor.aspx?ISIN=ES0148396007\">INDITEX</a></td><td>29,5700</td><td class=\"DifClBj\">-0,61</td><td>29,8000</td><td>29,3400</td><td>238.224</td><td>7.028,16</td><td align=\"center\">08/09/2021</td><td align=\"center\" class=\"Ult\">10:50:01</td>\n",
       "</tr><tr align=\"right\">\n",
       "<td align=\"left\" class=\"DifFlBj\"><a href=\"/esp/aspx/Empresas/FichaValor.aspx?ISIN=ES0118594417\">INDRA A</a></td><td>8,8750</td><td class=\"DifClBj\">-2,10</td><td>9,0300</td><td>8,8250</td><td>239.212</td><td>2.127,44</td><td align=\"center\">08/09/2021</td><td align=\"center\" class=\"Ult\">10:45:53</td>\n",
       "</tr><tr align=\"right\">\n",
       "<td align=\"left\" class=\"DifFlBj\"><a href=\"/esp/aspx/Empresas/FichaValor.aspx?ISIN=ES0139140174\">INM.COLONIAL</a></td><td>8,5250</td><td class=\"DifClBj\">-1,67</td><td>8,6400</td><td>8,5000</td><td>207.755</td><td>1.782,42</td><td align=\"center\">08/09/2021</td><td align=\"center\" class=\"Ult\">10:50:01</td>\n",
       "</tr><tr align=\"right\">\n",
       "<td align=\"left\" class=\"DifFlBj\"><a href=\"/esp/aspx/Empresas/FichaValor.aspx?ISIN=ES0124244E34\">MAPFRE</a></td><td>1,8130</td><td class=\"DifClBj\">-1,76</td><td>1,8510</td><td>1,8065</td><td>522.449</td><td>951,50</td><td align=\"center\">08/09/2021</td><td align=\"center\" class=\"Ult\">10:48:47</td>\n",
       "</tr><tr align=\"right\">\n",
       "<td align=\"left\" class=\"DifFlSb\"><a href=\"/esp/aspx/Empresas/FichaValor.aspx?ISIN=ES0176252718\">MELIA HOTELS</a></td><td>5,7600</td><td class=\"DifClSb\">0,31</td><td>5,8040</td><td>5,6740</td><td>149.725</td><td>860,94</td><td align=\"center\">08/09/2021</td><td align=\"center\" class=\"Ult\">10:46:23</td>\n",
       "</tr><tr align=\"right\">\n",
       "<td align=\"left\" class=\"DifFlBj\"><a href=\"/esp/aspx/Empresas/FichaValor.aspx?ISIN=ES0105025003\">MERLIN</a></td><td>9,5000</td><td class=\"DifClBj\">-2,56</td><td>9,7360</td><td>9,4700</td><td>151.159</td><td>1.443,06</td><td align=\"center\">08/09/2021</td><td align=\"center\" class=\"Ult\">10:49:57</td>\n",
       "</tr><tr align=\"right\">\n",
       "<td align=\"left\" class=\"DifFlBj\"><a href=\"/esp/aspx/Empresas/FichaValor.aspx?ISIN=ES0116870314\">NATURGY</a></td><td>21,6200</td><td class=\"DifClBj\">-0,14</td><td>21,6600</td><td>21,5000</td><td>172.434</td><td>3.718,91</td><td align=\"center\">08/09/2021</td><td align=\"center\" class=\"Ult\">10:49:55</td>\n",
       "</tr><tr align=\"right\">\n",
       "<td align=\"left\" class=\"DifFlBj\"><a href=\"/esp/aspx/Empresas/FichaValor.aspx?ISIN=ES0169501022\">PHARMA MAR</a></td><td>81,0000</td><td class=\"DifClBj\">-0,37</td><td>81,8400</td><td>80,2000</td><td>16.635</td><td>1.345,54</td><td align=\"center\">08/09/2021</td><td align=\"center\" class=\"Ult\">10:48:56</td>\n",
       "</tr><tr align=\"right\">\n",
       "<td align=\"left\" class=\"DifFlBj\"><a href=\"/esp/aspx/Empresas/FichaValor.aspx?ISIN=ES0173093024\">R.E.C.</a></td><td>17,1700</td><td class=\"DifClBj\">-0,12</td><td>17,1900</td><td>17,0300</td><td>95.710</td><td>1.638,16</td><td align=\"center\">08/09/2021</td><td align=\"center\" class=\"Ult\">10:49:49</td>\n",
       "</tr><tr align=\"right\">\n",
       "<td align=\"left\" class=\"DifFlBj\"><a href=\"/esp/aspx/Empresas/FichaValor.aspx?ISIN=ES0173516115\">REPSOL</a></td><td>9,4290</td><td class=\"DifClBj\">-1,99</td><td>9,5560</td><td>9,3890</td><td>1.177.550</td><td>11.103,23</td><td align=\"center\">08/09/2021</td><td align=\"center\" class=\"Ult\">10:49:43</td>\n",
       "</tr><tr align=\"right\">\n",
       "<td align=\"left\" class=\"DifFlBj\"><a href=\"/esp/aspx/Empresas/FichaValor.aspx?ISIN=ES0143416115\">SIEMENS GAME</a></td><td>23,7400</td><td class=\"DifClBj\">-6,79</td><td>24,7100</td><td>23,6500</td><td>530.280</td><td>12.717,23</td><td align=\"center\">08/09/2021</td><td align=\"center\" class=\"Ult\">10:50:02</td>\n",
       "</tr><tr align=\"right\">\n",
       "<td align=\"left\" class=\"DifFlBj\"><a href=\"/esp/aspx/Empresas/FichaValor.aspx?ISIN=ES0165386014\">SOLARIA</a></td><td>15,2800</td><td class=\"DifClBj\">-1,00</td><td>15,4450</td><td>15,0100</td><td>398.826</td><td>6.062,64</td><td align=\"center\">08/09/2021</td><td align=\"center\" class=\"Ult\">10:49:46</td>\n",
       "</tr><tr align=\"right\">\n",
       "<td align=\"left\" class=\"DifFlBj\"><a href=\"/esp/aspx/Empresas/FichaValor.aspx?ISIN=ES0178430E18\">TELEFONICA</a></td><td>4,1890</td><td class=\"DifClBj\">-0,46</td><td>4,2040</td><td>4,1595</td><td>1.430.862</td><td>5.977,52</td><td align=\"center\">08/09/2021</td><td align=\"center\" class=\"Ult\">10:50:00</td>\n",
       "</tr><tr align=\"right\">\n",
       "<td align=\"left\" class=\"DifFlBj\"><a href=\"/esp/aspx/Empresas/FichaValor.aspx?ISIN=ES0184262212\">VISCOFAN</a></td><td>59,8000</td><td class=\"DifClBj\">-0,58</td><td>60,2000</td><td>59,5500</td><td>3.947</td><td>235,79</td><td align=\"center\">08/09/2021</td><td align=\"center\" class=\"Ult\">10:45:15</td>\n",
       "</tr>\n",
       "</table>"
      ]
     },
     "execution_count": 6,
     "metadata": {},
     "output_type": "execute_result"
    }
   ],
   "source": [
    "# Copiamos el html de la tabla y lo metemos en jsbeautifier (pag web)\n",
    "# para leer mejor las etiquetas.\n",
    "tabla"
   ]
  },
  {
   "cell_type": "code",
   "execution_count": 7,
   "id": "8d3f94c9",
   "metadata": {},
   "outputs": [],
   "source": [
    "# Recogemos las filas, identificadas por la etiqueta <tr>\n",
    "filas = tabla.find_all(\"tr\")\n",
    "\n",
    "# Utilizamos la primera fila para recoger los nombres de las\n",
    "# columnas\n",
    "headers = []\n",
    "for nombre in filas[0].find_all(\"th\"):\n",
    "    headers.append(nombre.text)\n",
    "    "
   ]
  },
  {
   "cell_type": "code",
   "execution_count": 8,
   "id": "7590189c",
   "metadata": {},
   "outputs": [
    {
     "data": {
      "text/plain": [
       "['Nombre',\n",
       " 'Últ.',\n",
       " '% Dif.',\n",
       " 'Máx.',\n",
       " 'Mín.',\n",
       " 'Volumen',\n",
       " 'Efectivo (miles €)',\n",
       " 'Fecha',\n",
       " 'Hora']"
      ]
     },
     "execution_count": 8,
     "metadata": {},
     "output_type": "execute_result"
    }
   ],
   "source": [
    "headers"
   ]
  },
  {
   "cell_type": "code",
   "execution_count": 9,
   "id": "7a1da7d7",
   "metadata": {},
   "outputs": [
    {
     "data": {
      "text/plain": [
       "<tr align=\"center\">\n",
       "<th scope=\"col\">Nombre</th><th scope=\"col\">Últ.</th><th scope=\"col\">% Dif.</th><th scope=\"col\">Máx.</th><th scope=\"col\">Mín.</th><th scope=\"col\">Volumen</th><th scope=\"col\">Efectivo (miles €)</th><th scope=\"col\">Fecha</th><th class=\"Ult\" scope=\"col\">Hora</th>\n",
       "</tr>"
      ]
     },
     "execution_count": 9,
     "metadata": {},
     "output_type": "execute_result"
    }
   ],
   "source": [
    "# Y retiramos esta fila de la lista de acciones\n",
    "filas.pop(0)\n"
   ]
  },
  {
   "cell_type": "code",
   "execution_count": 10,
   "id": "6f7de206",
   "metadata": {},
   "outputs": [
    {
     "data": {
      "text/plain": [
       "[<tr align=\"right\">\n",
       " <td align=\"left\" class=\"DifFlBj\"><a href=\"/esp/aspx/Empresas/FichaValor.aspx?ISIN=ES0125220311\">ACCIONA</a></td><td>139,1000</td><td class=\"DifClBj\">-0,64</td><td>140,0000</td><td>137,5000</td><td>11.811</td><td>1.634,07</td><td align=\"center\">08/09/2021</td><td align=\"center\" class=\"Ult\">10:47:57</td>\n",
       " </tr>,\n",
       " <tr align=\"right\">\n",
       " <td align=\"left\" class=\"DifFlSb\"><a href=\"/esp/aspx/Empresas/FichaValor.aspx?ISIN=ES0132105018\">ACERINOX</a></td><td>11,5600</td><td class=\"DifClSb\">0,09</td><td>11,6700</td><td>11,4500</td><td>186.881</td><td>2.170,12</td><td align=\"center\">08/09/2021</td><td align=\"center\" class=\"Ult\">10:46:24</td>\n",
       " </tr>,\n",
       " <tr align=\"right\">\n",
       " <td align=\"left\" class=\"DifFlBj\"><a href=\"/esp/aspx/Empresas/FichaValor.aspx?ISIN=ES0167050915\">ACS</a></td><td>23,1800</td><td class=\"DifClBj\">-0,94</td><td>23,2900</td><td>23,1100</td><td>109.242</td><td>2.536,72</td><td align=\"center\">08/09/2021</td><td align=\"center\" class=\"Ult\">10:49:17</td>\n",
       " </tr>,\n",
       " <tr align=\"right\">\n",
       " <td align=\"left\" class=\"DifFlBj\"><a href=\"/esp/aspx/Empresas/FichaValor.aspx?ISIN=ES0105046009\">AENA</a></td><td>133,5000</td><td class=\"DifClBj\">-0,07</td><td>133,7000</td><td>132,2500</td><td>16.154</td><td>2.152,99</td><td align=\"center\">08/09/2021</td><td align=\"center\" class=\"Ult\">10:49:17</td>\n",
       " </tr>,\n",
       " <tr align=\"right\">\n",
       " <td align=\"left\" class=\"DifFlSb\"><a href=\"/esp/aspx/Empresas/FichaValor.aspx?ISIN=ES0157097017\">ALMIRALL</a></td><td>14,6300</td><td class=\"DifClSb\">0,21</td><td>14,8300</td><td>14,5600</td><td>168.179</td><td>2.471,10</td><td align=\"center\">08/09/2021</td><td align=\"center\" class=\"Ult\">10:49:06</td>\n",
       " </tr>,\n",
       " <tr align=\"right\">\n",
       " <td align=\"left\" class=\"DifFlSb\"><a href=\"/esp/aspx/Empresas/FichaValor.aspx?ISIN=ES0109067019\">AMADEUS</a></td><td>52,7000</td><td class=\"DifClSb\">0,15</td><td>53,1000</td><td>51,9200</td><td>197.761</td><td>10.385,26</td><td align=\"center\">08/09/2021</td><td align=\"center\" class=\"Ult\">10:49:17</td>\n",
       " </tr>,\n",
       " <tr align=\"right\">\n",
       " <td align=\"left\" class=\"DifFlBj\"><a href=\"/esp/aspx/Empresas/FichaValor.aspx?ISIN=LU1598757687\">ARCELORMIT.</a></td><td>28,1850</td><td class=\"DifClBj\">-1,38</td><td>28,5050</td><td>28,1500</td><td>99.955</td><td>2.835,22</td><td align=\"center\">08/09/2021</td><td align=\"center\" class=\"Ult\">10:50:05</td>\n",
       " </tr>,\n",
       " <tr align=\"right\">\n",
       " <td align=\"left\" class=\"DifFlBj\"><a href=\"/esp/aspx/Empresas/FichaValor.aspx?ISIN=ES0113900J37\">B.SANTANDER</a></td><td>3,0425</td><td class=\"DifClBj\">-2,97</td><td>3,1055</td><td>3,0265</td><td>9.551.221</td><td>29.210,91</td><td align=\"center\">08/09/2021</td><td align=\"center\" class=\"Ult\">10:49:56</td>\n",
       " </tr>,\n",
       " <tr align=\"right\">\n",
       " <td align=\"left\" class=\"DifFlBj\"><a href=\"/esp/aspx/Empresas/FichaValor.aspx?ISIN=ES0113860A34\">BA.SABADELL</a></td><td>0,5856</td><td class=\"DifClBj\">-3,14</td><td>0,5972</td><td>0,5844</td><td>5.860.929</td><td>3.458,50</td><td align=\"center\">08/09/2021</td><td align=\"center\" class=\"Ult\">10:49:08</td>\n",
       " </tr>,\n",
       " <tr align=\"right\">\n",
       " <td align=\"left\" class=\"DifFlBj\"><a href=\"/esp/aspx/Empresas/FichaValor.aspx?ISIN=ES0113679I37\">BANKINTER</a></td><td>4,9130</td><td class=\"DifClBj\">-1,90</td><td>4,9830</td><td>4,8970</td><td>287.692</td><td>1.419,85</td><td align=\"center\">08/09/2021</td><td align=\"center\" class=\"Ult\">10:47:48</td>\n",
       " </tr>,\n",
       " <tr align=\"right\">\n",
       " <td align=\"left\" class=\"DifFlBj\"><a href=\"/esp/aspx/Empresas/FichaValor.aspx?ISIN=ES0113211835\">BBVA</a></td><td>5,4940</td><td class=\"DifClBj\">-1,77</td><td>5,5610</td><td>5,4690</td><td>9.256.730</td><td>51.567,63</td><td align=\"center\">08/09/2021</td><td align=\"center\" class=\"Ult\">10:49:49</td>\n",
       " </tr>,\n",
       " <tr align=\"right\">\n",
       " <td align=\"left\" class=\"DifFlBj\"><a href=\"/esp/aspx/Empresas/FichaValor.aspx?ISIN=ES0140609019\">CAIXABANK</a></td><td>2,6120</td><td class=\"DifClBj\">-3,12</td><td>2,6760</td><td>2,6030</td><td>2.823.558</td><td>7.422,01</td><td align=\"center\">08/09/2021</td><td align=\"center\" class=\"Ult\">10:49:41</td>\n",
       " </tr>,\n",
       " <tr align=\"right\">\n",
       " <td align=\"left\" class=\"DifFlBj\"><a href=\"/esp/aspx/Empresas/FichaValor.aspx?ISIN=ES0105066007\">CELLNEX</a></td><td>57,5600</td><td class=\"DifClBj\">-0,10</td><td>57,8200</td><td>57,2400</td><td>119.253</td><td>6.866,59</td><td align=\"center\">08/09/2021</td><td align=\"center\" class=\"Ult\">10:48:54</td>\n",
       " </tr>,\n",
       " <tr align=\"right\">\n",
       " <td align=\"left\" class=\"DifFlBj\"><a href=\"/esp/aspx/Empresas/FichaValor.aspx?ISIN=ES0105630315\">CIE AUTOMOT.</a></td><td>23,5400</td><td class=\"DifClBj\">-1,83</td><td>24,2000</td><td>23,4800</td><td>39.920</td><td>941,91</td><td align=\"center\">08/09/2021</td><td align=\"center\" class=\"Ult\">10:45:23</td>\n",
       " </tr>,\n",
       " <tr align=\"right\">\n",
       " <td align=\"left\" class=\"DifFlBj\"><a href=\"/esp/aspx/Empresas/FichaValor.aspx?ISIN=ES0130960018\">ENAGAS</a></td><td>18,8600</td><td class=\"DifClBj\">-0,58</td><td>18,9050</td><td>18,6500</td><td>109.698</td><td>2.060,35</td><td align=\"center\">08/09/2021</td><td align=\"center\" class=\"Ult\">10:49:49</td>\n",
       " </tr>,\n",
       " <tr align=\"right\">\n",
       " <td align=\"left\" class=\"DifFlBj\"><a href=\"/esp/aspx/Empresas/FichaValor.aspx?ISIN=ES0130670112\">ENDESA</a></td><td>20,3000</td><td class=\"DifClBj\">-0,68</td><td>20,4300</td><td>20,1600</td><td>139.493</td><td>2.824,30</td><td align=\"center\">08/09/2021</td><td align=\"center\" class=\"Ult\">10:50:08</td>\n",
       " </tr>,\n",
       " <tr align=\"right\">\n",
       " <td align=\"left\" class=\"DifFlBj\"><a href=\"/esp/aspx/Empresas/FichaValor.aspx?ISIN=ES0118900010\">FERROVIAL</a></td><td>24,9000</td><td class=\"DifClBj\">-0,20</td><td>24,9300</td><td>24,6800</td><td>70.078</td><td>1.739,83</td><td align=\"center\">08/09/2021</td><td align=\"center\" class=\"Ult\">10:50:05</td>\n",
       " </tr>,\n",
       " <tr align=\"right\">\n",
       " <td align=\"left\" class=\"DifFlBj\"><a href=\"/esp/aspx/Empresas/FichaValor.aspx?ISIN=ES0137650018\">FLUIDRA</a></td><td>37,2500</td><td class=\"DifClBj\">-0,67</td><td>37,4000</td><td>37,0000</td><td>54.082</td><td>2.010,48</td><td align=\"center\">08/09/2021</td><td align=\"center\" class=\"Ult\">10:45:23</td>\n",
       " </tr>,\n",
       " <tr align=\"right\">\n",
       " <td align=\"left\" class=\"DifFlBj\"><a href=\"/esp/aspx/Empresas/FichaValor.aspx?ISIN=ES0171996087\">GRIFOLS CL.A</a></td><td>20,7300</td><td class=\"DifClBj\">-0,58</td><td>20,7600</td><td>20,5100</td><td>72.353</td><td>1.492,99</td><td align=\"center\">08/09/2021</td><td align=\"center\" class=\"Ult\">10:50:05</td>\n",
       " </tr>,\n",
       " <tr align=\"right\">\n",
       " <td align=\"left\" class=\"DifFlBj\"><a href=\"/esp/aspx/Empresas/FichaValor.aspx?ISIN=ES0177542018\">IAG</a></td><td>1,8080</td><td class=\"DifClBj\">-0,19</td><td>1,8250</td><td>1,7700</td><td>5.364.205</td><td>9.651,87</td><td align=\"center\">08/09/2021</td><td align=\"center\" class=\"Ult\">10:50:03</td>\n",
       " </tr>,\n",
       " <tr align=\"right\">\n",
       " <td align=\"left\" class=\"DifFlBj\"><a href=\"/esp/aspx/Empresas/FichaValor.aspx?ISIN=ES0144580Y14\">IBERDROLA</a></td><td>10,2450</td><td class=\"DifClBj\">-1,30</td><td>10,3200</td><td>10,1500</td><td>2.283.611</td><td>23.316,98</td><td align=\"center\">08/09/2021</td><td align=\"center\" class=\"Ult\">10:50:06</td>\n",
       " </tr>,\n",
       " <tr align=\"right\">\n",
       " <td align=\"left\" class=\"DifFlBj\"><a href=\"/esp/aspx/Empresas/FichaValor.aspx?ISIN=ES0148396007\">INDITEX</a></td><td>29,5700</td><td class=\"DifClBj\">-0,61</td><td>29,8000</td><td>29,3400</td><td>238.224</td><td>7.028,16</td><td align=\"center\">08/09/2021</td><td align=\"center\" class=\"Ult\">10:50:01</td>\n",
       " </tr>,\n",
       " <tr align=\"right\">\n",
       " <td align=\"left\" class=\"DifFlBj\"><a href=\"/esp/aspx/Empresas/FichaValor.aspx?ISIN=ES0118594417\">INDRA A</a></td><td>8,8750</td><td class=\"DifClBj\">-2,10</td><td>9,0300</td><td>8,8250</td><td>239.212</td><td>2.127,44</td><td align=\"center\">08/09/2021</td><td align=\"center\" class=\"Ult\">10:45:53</td>\n",
       " </tr>,\n",
       " <tr align=\"right\">\n",
       " <td align=\"left\" class=\"DifFlBj\"><a href=\"/esp/aspx/Empresas/FichaValor.aspx?ISIN=ES0139140174\">INM.COLONIAL</a></td><td>8,5250</td><td class=\"DifClBj\">-1,67</td><td>8,6400</td><td>8,5000</td><td>207.755</td><td>1.782,42</td><td align=\"center\">08/09/2021</td><td align=\"center\" class=\"Ult\">10:50:01</td>\n",
       " </tr>,\n",
       " <tr align=\"right\">\n",
       " <td align=\"left\" class=\"DifFlBj\"><a href=\"/esp/aspx/Empresas/FichaValor.aspx?ISIN=ES0124244E34\">MAPFRE</a></td><td>1,8130</td><td class=\"DifClBj\">-1,76</td><td>1,8510</td><td>1,8065</td><td>522.449</td><td>951,50</td><td align=\"center\">08/09/2021</td><td align=\"center\" class=\"Ult\">10:48:47</td>\n",
       " </tr>,\n",
       " <tr align=\"right\">\n",
       " <td align=\"left\" class=\"DifFlSb\"><a href=\"/esp/aspx/Empresas/FichaValor.aspx?ISIN=ES0176252718\">MELIA HOTELS</a></td><td>5,7600</td><td class=\"DifClSb\">0,31</td><td>5,8040</td><td>5,6740</td><td>149.725</td><td>860,94</td><td align=\"center\">08/09/2021</td><td align=\"center\" class=\"Ult\">10:46:23</td>\n",
       " </tr>,\n",
       " <tr align=\"right\">\n",
       " <td align=\"left\" class=\"DifFlBj\"><a href=\"/esp/aspx/Empresas/FichaValor.aspx?ISIN=ES0105025003\">MERLIN</a></td><td>9,5000</td><td class=\"DifClBj\">-2,56</td><td>9,7360</td><td>9,4700</td><td>151.159</td><td>1.443,06</td><td align=\"center\">08/09/2021</td><td align=\"center\" class=\"Ult\">10:49:57</td>\n",
       " </tr>,\n",
       " <tr align=\"right\">\n",
       " <td align=\"left\" class=\"DifFlBj\"><a href=\"/esp/aspx/Empresas/FichaValor.aspx?ISIN=ES0116870314\">NATURGY</a></td><td>21,6200</td><td class=\"DifClBj\">-0,14</td><td>21,6600</td><td>21,5000</td><td>172.434</td><td>3.718,91</td><td align=\"center\">08/09/2021</td><td align=\"center\" class=\"Ult\">10:49:55</td>\n",
       " </tr>,\n",
       " <tr align=\"right\">\n",
       " <td align=\"left\" class=\"DifFlBj\"><a href=\"/esp/aspx/Empresas/FichaValor.aspx?ISIN=ES0169501022\">PHARMA MAR</a></td><td>81,0000</td><td class=\"DifClBj\">-0,37</td><td>81,8400</td><td>80,2000</td><td>16.635</td><td>1.345,54</td><td align=\"center\">08/09/2021</td><td align=\"center\" class=\"Ult\">10:48:56</td>\n",
       " </tr>,\n",
       " <tr align=\"right\">\n",
       " <td align=\"left\" class=\"DifFlBj\"><a href=\"/esp/aspx/Empresas/FichaValor.aspx?ISIN=ES0173093024\">R.E.C.</a></td><td>17,1700</td><td class=\"DifClBj\">-0,12</td><td>17,1900</td><td>17,0300</td><td>95.710</td><td>1.638,16</td><td align=\"center\">08/09/2021</td><td align=\"center\" class=\"Ult\">10:49:49</td>\n",
       " </tr>,\n",
       " <tr align=\"right\">\n",
       " <td align=\"left\" class=\"DifFlBj\"><a href=\"/esp/aspx/Empresas/FichaValor.aspx?ISIN=ES0173516115\">REPSOL</a></td><td>9,4290</td><td class=\"DifClBj\">-1,99</td><td>9,5560</td><td>9,3890</td><td>1.177.550</td><td>11.103,23</td><td align=\"center\">08/09/2021</td><td align=\"center\" class=\"Ult\">10:49:43</td>\n",
       " </tr>,\n",
       " <tr align=\"right\">\n",
       " <td align=\"left\" class=\"DifFlBj\"><a href=\"/esp/aspx/Empresas/FichaValor.aspx?ISIN=ES0143416115\">SIEMENS GAME</a></td><td>23,7400</td><td class=\"DifClBj\">-6,79</td><td>24,7100</td><td>23,6500</td><td>530.280</td><td>12.717,23</td><td align=\"center\">08/09/2021</td><td align=\"center\" class=\"Ult\">10:50:02</td>\n",
       " </tr>,\n",
       " <tr align=\"right\">\n",
       " <td align=\"left\" class=\"DifFlBj\"><a href=\"/esp/aspx/Empresas/FichaValor.aspx?ISIN=ES0165386014\">SOLARIA</a></td><td>15,2800</td><td class=\"DifClBj\">-1,00</td><td>15,4450</td><td>15,0100</td><td>398.826</td><td>6.062,64</td><td align=\"center\">08/09/2021</td><td align=\"center\" class=\"Ult\">10:49:46</td>\n",
       " </tr>,\n",
       " <tr align=\"right\">\n",
       " <td align=\"left\" class=\"DifFlBj\"><a href=\"/esp/aspx/Empresas/FichaValor.aspx?ISIN=ES0178430E18\">TELEFONICA</a></td><td>4,1890</td><td class=\"DifClBj\">-0,46</td><td>4,2040</td><td>4,1595</td><td>1.430.862</td><td>5.977,52</td><td align=\"center\">08/09/2021</td><td align=\"center\" class=\"Ult\">10:50:00</td>\n",
       " </tr>,\n",
       " <tr align=\"right\">\n",
       " <td align=\"left\" class=\"DifFlBj\"><a href=\"/esp/aspx/Empresas/FichaValor.aspx?ISIN=ES0184262212\">VISCOFAN</a></td><td>59,8000</td><td class=\"DifClBj\">-0,58</td><td>60,2000</td><td>59,5500</td><td>3.947</td><td>235,79</td><td align=\"center\">08/09/2021</td><td align=\"center\" class=\"Ult\">10:45:15</td>\n",
       " </tr>]"
      ]
     },
     "execution_count": 10,
     "metadata": {},
     "output_type": "execute_result"
    }
   ],
   "source": [
    "filas"
   ]
  },
  {
   "cell_type": "code",
   "execution_count": 11,
   "id": "8efb20c7",
   "metadata": {},
   "outputs": [],
   "source": [
    "# Trabajamos el .csv contenedor.\n",
    "nombre_arx = \"ibex_35.csv\"\n",
    "\n",
    "if not exists(nombre_arx):\n",
    "    f = open(nombre_arx, \"a\")\n",
    "    write_csv = csv.writer(f)\n",
    "    write_csv.writerow(headers)\n",
    "    f.close()\n",
    "    df = pd.read_csv(nombre_arx)\n",
    "else:\n",
    "    df = pd.read_csv(nombre_arx)"
   ]
  },
  {
   "cell_type": "code",
   "execution_count": 16,
   "id": "e9bad707",
   "metadata": {},
   "outputs": [],
   "source": [
    "# Volcamos la info de las acciones en el df (añadiendola)\n",
    "for fila in filas:\n",
    "    \n",
    "    # INTERESANTE! Convertimos dos listas en un dict\n",
    "    info = {headers[i]: fila.find_all(\"td\")[i].text for i in range(len(headers))}\n",
    "    df = df.append(info, ignore_index=True)"
   ]
  },
  {
   "cell_type": "code",
   "execution_count": 17,
   "id": "418f9626",
   "metadata": {},
   "outputs": [],
   "source": [
    "# Limpiamos registros de la misma acción y el mismo día \n",
    "# manteniendo la más actual\n",
    "df = df.drop_duplicates(['Nombre', 'Fecha'], keep='last')"
   ]
  },
  {
   "cell_type": "code",
   "execution_count": 18,
   "id": "03090364",
   "metadata": {},
   "outputs": [],
   "source": [
    "# Lo escribimos al csv existente.\n",
    "\n",
    "df.to_csv(r\"ibex_35.csv\", index = False)"
   ]
  },
  {
   "cell_type": "code",
   "execution_count": 13,
   "id": "d4ae77a0",
   "metadata": {},
   "outputs": [],
   "source": [
    "# Cada vez que lo ejecutamos, se copia al csv automáticamente\n",
    "# En principio no es un problema, porque al utilizarlo, limpiaríamos\n",
    "# los duplicados."
   ]
  },
  {
   "cell_type": "code",
   "execution_count": null,
   "id": "fac1f900",
   "metadata": {},
   "outputs": [],
   "source": []
  }
 ],
 "metadata": {
  "kernelspec": {
   "display_name": "Python 3",
   "language": "python",
   "name": "python3"
  },
  "language_info": {
   "codemirror_mode": {
    "name": "ipython",
    "version": 3
   },
   "file_extension": ".py",
   "mimetype": "text/x-python",
   "name": "python",
   "nbconvert_exporter": "python",
   "pygments_lexer": "ipython3",
   "version": "3.8.8"
  }
 },
 "nbformat": 4,
 "nbformat_minor": 5
}
