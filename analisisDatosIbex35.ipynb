{
 "cells": [
  {
   "cell_type": "code",
   "execution_count": 1,
   "id": "94ab66da",
   "metadata": {},
   "outputs": [],
   "source": [
    "import pandas as pd\n",
    "import numpy as np\n",
    "import matplotlib.pyplot as plt"
   ]
  },
  {
   "cell_type": "code",
   "execution_count": 2,
   "id": "6092ffbe",
   "metadata": {
    "scrolled": true
   },
   "outputs": [],
   "source": [
    "import ibex_35_web_scraping \n",
    "# Ejecutamos el script de web scraping para actualizar los datos en el arx .csv"
   ]
  },
  {
   "cell_type": "code",
   "execution_count": 3,
   "id": "075cdc90",
   "metadata": {},
   "outputs": [],
   "source": [
    "df = pd.read_csv(\"ibex_35.csv\")"
   ]
  },
  {
   "cell_type": "code",
   "execution_count": 4,
   "id": "3a357f13",
   "metadata": {},
   "outputs": [
    {
     "data": {
      "text/html": [
       "<div>\n",
       "<style scoped>\n",
       "    .dataframe tbody tr th:only-of-type {\n",
       "        vertical-align: middle;\n",
       "    }\n",
       "\n",
       "    .dataframe tbody tr th {\n",
       "        vertical-align: top;\n",
       "    }\n",
       "\n",
       "    .dataframe thead th {\n",
       "        text-align: right;\n",
       "    }\n",
       "</style>\n",
       "<table border=\"1\" class=\"dataframe\">\n",
       "  <thead>\n",
       "    <tr style=\"text-align: right;\">\n",
       "      <th></th>\n",
       "      <th>Nombre</th>\n",
       "      <th>Últ.</th>\n",
       "      <th>% Dif.</th>\n",
       "      <th>Máx.</th>\n",
       "      <th>Mín.</th>\n",
       "      <th>Volumen</th>\n",
       "      <th>Efectivo (miles €)</th>\n",
       "      <th>Fecha</th>\n",
       "      <th>Hora</th>\n",
       "    </tr>\n",
       "  </thead>\n",
       "  <tbody>\n",
       "    <tr>\n",
       "      <th>0</th>\n",
       "      <td>ACCIONA</td>\n",
       "      <td>141,2000</td>\n",
       "      <td>0,86</td>\n",
       "      <td>141,4000</td>\n",
       "      <td>137,5000</td>\n",
       "      <td>79.222</td>\n",
       "      <td>11.118,54</td>\n",
       "      <td>08/09/2021</td>\n",
       "      <td>Cierre</td>\n",
       "    </tr>\n",
       "    <tr>\n",
       "      <th>1</th>\n",
       "      <td>ACERINOX</td>\n",
       "      <td>11,4100</td>\n",
       "      <td>-1,21</td>\n",
       "      <td>11,6700</td>\n",
       "      <td>11,4000</td>\n",
       "      <td>598.333</td>\n",
       "      <td>6.889,33</td>\n",
       "      <td>08/09/2021</td>\n",
       "      <td>Cierre</td>\n",
       "    </tr>\n",
       "    <tr>\n",
       "      <th>2</th>\n",
       "      <td>ACS</td>\n",
       "      <td>23,3500</td>\n",
       "      <td>-0,21</td>\n",
       "      <td>23,6300</td>\n",
       "      <td>23,1100</td>\n",
       "      <td>591.272</td>\n",
       "      <td>13.810,48</td>\n",
       "      <td>08/09/2021</td>\n",
       "      <td>Cierre</td>\n",
       "    </tr>\n",
       "    <tr>\n",
       "      <th>3</th>\n",
       "      <td>AENA</td>\n",
       "      <td>135,3500</td>\n",
       "      <td>1,31</td>\n",
       "      <td>137,2500</td>\n",
       "      <td>132,2500</td>\n",
       "      <td>201.778</td>\n",
       "      <td>27.271,11</td>\n",
       "      <td>08/09/2021</td>\n",
       "      <td>Cierre</td>\n",
       "    </tr>\n",
       "    <tr>\n",
       "      <th>4</th>\n",
       "      <td>ALMIRALL</td>\n",
       "      <td>14,6900</td>\n",
       "      <td>0,62</td>\n",
       "      <td>14,8300</td>\n",
       "      <td>14,5400</td>\n",
       "      <td>593.435</td>\n",
       "      <td>8.708,54</td>\n",
       "      <td>08/09/2021</td>\n",
       "      <td>Cierre</td>\n",
       "    </tr>\n",
       "  </tbody>\n",
       "</table>\n",
       "</div>"
      ],
      "text/plain": [
       "     Nombre      Últ. % Dif.      Máx.      Mín.  Volumen Efectivo (miles €)  \\\n",
       "0   ACCIONA  141,2000   0,86  141,4000  137,5000   79.222          11.118,54   \n",
       "1  ACERINOX   11,4100  -1,21   11,6700   11,4000  598.333           6.889,33   \n",
       "2       ACS   23,3500  -0,21   23,6300   23,1100  591.272          13.810,48   \n",
       "3      AENA  135,3500   1,31  137,2500  132,2500  201.778          27.271,11   \n",
       "4  ALMIRALL   14,6900   0,62   14,8300   14,5400  593.435           8.708,54   \n",
       "\n",
       "        Fecha    Hora  \n",
       "0  08/09/2021  Cierre  \n",
       "1  08/09/2021  Cierre  \n",
       "2  08/09/2021  Cierre  \n",
       "3  08/09/2021  Cierre  \n",
       "4  08/09/2021  Cierre  "
      ]
     },
     "execution_count": 4,
     "metadata": {},
     "output_type": "execute_result"
    }
   ],
   "source": [
    "df.head()"
   ]
  },
  {
   "cell_type": "code",
   "execution_count": 5,
   "id": "4881beb8",
   "metadata": {},
   "outputs": [],
   "source": [
    "# Método para dar formato (convertible a tipo float) a los strings numéricos del df\n",
    "def a_num(string):\n",
    "    return string.replace('.', '').replace(',', '.')\n",
    "\n",
    "# Método para formatear la fecha, y convertirla en un int que sea comparable. Es decir, \n",
    "# que si numéricamente es mayor --> cronológicamente posterior.\n",
    "def a_fecha_comparativa(string):\n",
    "    txt = string.split('/')\n",
    "    txt.reverse()\n",
    "    txt = ''.join(num for num in txt)\n",
    "    return txt\n",
    "    "
   ]
  },
  {
   "cell_type": "code",
   "execution_count": 6,
   "id": "c072f6c5",
   "metadata": {},
   "outputs": [
    {
     "data": {
      "text/html": [
       "<div>\n",
       "<style scoped>\n",
       "    .dataframe tbody tr th:only-of-type {\n",
       "        vertical-align: middle;\n",
       "    }\n",
       "\n",
       "    .dataframe tbody tr th {\n",
       "        vertical-align: top;\n",
       "    }\n",
       "\n",
       "    .dataframe thead th {\n",
       "        text-align: right;\n",
       "    }\n",
       "</style>\n",
       "<table border=\"1\" class=\"dataframe\">\n",
       "  <thead>\n",
       "    <tr style=\"text-align: right;\">\n",
       "      <th></th>\n",
       "      <th>Nombre</th>\n",
       "      <th>Últ.</th>\n",
       "      <th>% Dif.</th>\n",
       "      <th>Máx.</th>\n",
       "      <th>Mín.</th>\n",
       "      <th>Volumen</th>\n",
       "      <th>Efectivo (miles €)</th>\n",
       "      <th>Fecha</th>\n",
       "      <th>Hora</th>\n",
       "    </tr>\n",
       "  </thead>\n",
       "  <tbody>\n",
       "    <tr>\n",
       "      <th>0</th>\n",
       "      <td>ACCIONA</td>\n",
       "      <td>141.20</td>\n",
       "      <td>0.86</td>\n",
       "      <td>141.40</td>\n",
       "      <td>137.50</td>\n",
       "      <td>79222.0</td>\n",
       "      <td>11118.54</td>\n",
       "      <td>20210908</td>\n",
       "      <td>Cierre</td>\n",
       "    </tr>\n",
       "    <tr>\n",
       "      <th>1</th>\n",
       "      <td>ACERINOX</td>\n",
       "      <td>11.41</td>\n",
       "      <td>-1.21</td>\n",
       "      <td>11.67</td>\n",
       "      <td>11.40</td>\n",
       "      <td>598333.0</td>\n",
       "      <td>6889.33</td>\n",
       "      <td>20210908</td>\n",
       "      <td>Cierre</td>\n",
       "    </tr>\n",
       "    <tr>\n",
       "      <th>2</th>\n",
       "      <td>ACS</td>\n",
       "      <td>23.35</td>\n",
       "      <td>-0.21</td>\n",
       "      <td>23.63</td>\n",
       "      <td>23.11</td>\n",
       "      <td>591272.0</td>\n",
       "      <td>13810.48</td>\n",
       "      <td>20210908</td>\n",
       "      <td>Cierre</td>\n",
       "    </tr>\n",
       "    <tr>\n",
       "      <th>3</th>\n",
       "      <td>AENA</td>\n",
       "      <td>135.35</td>\n",
       "      <td>1.31</td>\n",
       "      <td>137.25</td>\n",
       "      <td>132.25</td>\n",
       "      <td>201778.0</td>\n",
       "      <td>27271.11</td>\n",
       "      <td>20210908</td>\n",
       "      <td>Cierre</td>\n",
       "    </tr>\n",
       "    <tr>\n",
       "      <th>4</th>\n",
       "      <td>ALMIRALL</td>\n",
       "      <td>14.69</td>\n",
       "      <td>0.62</td>\n",
       "      <td>14.83</td>\n",
       "      <td>14.54</td>\n",
       "      <td>593435.0</td>\n",
       "      <td>8708.54</td>\n",
       "      <td>20210908</td>\n",
       "      <td>Cierre</td>\n",
       "    </tr>\n",
       "  </tbody>\n",
       "</table>\n",
       "</div>"
      ],
      "text/plain": [
       "     Nombre    Últ.  % Dif.    Máx.    Mín.   Volumen  Efectivo (miles €)  \\\n",
       "0   ACCIONA  141.20    0.86  141.40  137.50   79222.0            11118.54   \n",
       "1  ACERINOX   11.41   -1.21   11.67   11.40  598333.0             6889.33   \n",
       "2       ACS   23.35   -0.21   23.63   23.11  591272.0            13810.48   \n",
       "3      AENA  135.35    1.31  137.25  132.25  201778.0            27271.11   \n",
       "4  ALMIRALL   14.69    0.62   14.83   14.54  593435.0             8708.54   \n",
       "\n",
       "      Fecha    Hora  \n",
       "0  20210908  Cierre  \n",
       "1  20210908  Cierre  \n",
       "2  20210908  Cierre  \n",
       "3  20210908  Cierre  \n",
       "4  20210908  Cierre  "
      ]
     },
     "execution_count": 6,
     "metadata": {},
     "output_type": "execute_result"
    }
   ],
   "source": [
    "# Convertimos (utilizando los métodos anteriores) las columnas correspondientes a 'float'\n",
    "# y la fecha la convertimos a numérica comparable.\n",
    "for columna in df:\n",
    "    if columna not in ['Nombre', 'Fecha', 'Hora']:\n",
    "        df[columna] = df[columna].apply(a_num)\n",
    "        df[columna] = df[columna].astype('float')\n",
    "    else:\n",
    "        pass\n",
    "\n",
    "df['Fecha'] = df['Fecha'].apply(a_fecha_comparativa)\n",
    "df['Fecha'] = df['Fecha'].astype('int32')\n",
    "df.head()"
   ]
  },
  {
   "cell_type": "code",
   "execution_count": 13,
   "id": "6c2144b3",
   "metadata": {},
   "outputs": [],
   "source": [
    "acciona_df = df[df['Nombre']=='ACCIONA'].copy()"
   ]
  },
  {
   "cell_type": "code",
   "execution_count": 27,
   "id": "961b568f",
   "metadata": {
    "scrolled": false
   },
   "outputs": [],
   "source": [
    "acciona_df = acciona_df.reset_index(drop=True)"
   ]
  },
  {
   "cell_type": "code",
   "execution_count": 28,
   "id": "44fd758b",
   "metadata": {},
   "outputs": [
    {
     "data": {
      "text/plain": [
       "RangeIndex(start=0, stop=3, step=1)"
      ]
     },
     "execution_count": 28,
     "metadata": {},
     "output_type": "execute_result"
    }
   ],
   "source": [
    "acciona_df.index"
   ]
  },
  {
   "cell_type": "code",
   "execution_count": 29,
   "id": "8617785f",
   "metadata": {},
   "outputs": [
    {
     "data": {
      "text/plain": [
       "True"
      ]
     },
     "execution_count": 29,
     "metadata": {},
     "output_type": "execute_result"
    }
   ],
   "source": [
    "acciona_df.loc[0]['Fecha'] < acciona_df.loc[1]['Fecha']"
   ]
  },
  {
   "cell_type": "code",
   "execution_count": 30,
   "id": "c5c1a68f",
   "metadata": {},
   "outputs": [
    {
     "data": {
      "text/plain": [
       "Nombre                 ACCIONA\n",
       "Últ.                     141.2\n",
       "% Dif.                    0.86\n",
       "Máx.                     141.4\n",
       "Mín.                     137.5\n",
       "Volumen                79222.0\n",
       "Efectivo (miles €)    11118.54\n",
       "Fecha                 20210908\n",
       "Hora                    Cierre\n",
       "Name: 0, dtype: object"
      ]
     },
     "execution_count": 30,
     "metadata": {},
     "output_type": "execute_result"
    }
   ],
   "source": [
    "acciona_df.loc[0]"
   ]
  },
  {
   "cell_type": "code",
   "execution_count": 41,
   "id": "222a3d11",
   "metadata": {},
   "outputs": [
    {
     "name": "stdout",
     "output_type": "stream",
     "text": [
      "0    141.2\n",
      "1    143.4\n",
      "2    145.9\n",
      "Name: Últ., dtype: float64\n"
     ]
    },
    {
     "data": {
      "text/plain": [
       "<matplotlib.collections.PathCollection at 0x7efd7b38d130>"
      ]
     },
     "execution_count": 41,
     "metadata": {},
     "output_type": "execute_result"
    },
    {
     "data": {
      "image/png": "[encoded data removed]",
      "text/plain": [
       "<Figure size 432x288 with 1 Axes>"
      ]
     },
     "metadata": {
      "needs_background": "light"
     },
     "output_type": "display_data"
    }
   ],
   "source": [
    "print(acciona_df['Últ.'])\n",
    "\n",
    "plt.scatter(acciona_df['Fecha'], acciona_df['Últ.'])\n"
   ]
  },
  {
   "cell_type": "code",
   "execution_count": null,
   "id": "e279c31e",
   "metadata": {},
   "outputs": [],
   "source": []
  }
 ],
 "metadata": {
  "kernelspec": {
   "display_name": "Python 3",
   "language": "python",
   "name": "python3"
  },
  "language_info": {
   "codemirror_mode": {
    "name": "ipython",
    "version": 3
   },
   "file_extension": ".py",
   "mimetype": "text/x-python",
   "name": "python",
   "nbconvert_exporter": "python",
   "pygments_lexer": "ipython3",
   "version": "3.8.8"
  }
 },
 "nbformat": 4,
 "nbformat_minor": 5
}
